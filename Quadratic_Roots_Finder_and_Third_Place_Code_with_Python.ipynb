{
  "nbformat": 4,
  "nbformat_minor": 0,
  "metadata": {
    "kernelspec": {
      "display_name": "Python 3",
      "language": "python",
      "name": "python3"
    },
    "language_info": {
      "codemirror_mode": {
        "name": "ipython",
        "version": 3
      },
      "file_extension": ".py",
      "mimetype": "text/x-python",
      "name": "python",
      "nbconvert_exporter": "python",
      "pygments_lexer": "ipython3",
      "version": "3.7.0"
    },
    "colab": {
      "name": "Quadratic Roots Finder and Third Place Code with Python",
      "provenance": [],
      "toc_visible": true,
      "collapsed_sections": [],
      "include_colab_link": true
    }
  },
  "cells": [
    {
      "cell_type": "markdown",
      "metadata": {
        "id": "view-in-github",
        "colab_type": "text"
      },
      "source": [
        "<a href=\"https://colab.research.google.com/github/irvansikajudin/simple-code-with-python/blob/main/Quadratic_Roots_Finder_and_Third_Place_Code_with_Python.ipynb\" target=\"_parent\"><img src=\"https://colab.research.google.com/assets/colab-badge.svg\" alt=\"Open In Colab\"/></a>"
      ]
    },
    {
      "cell_type": "markdown",
      "metadata": {
        "id": "79NwqjIq64qr"
      },
      "source": [
        "Problem 1: Who is in the third place?"
      ]
    },
    {
      "cell_type": "markdown",
      "metadata": {
        "id": "9db_O8Co64qs"
      },
      "source": [
        "Create a function whose name is ```third_place``` that does the following: \n",
        "\n",
        "Given a list of test score and a list of participants name. The desired output would be the name of the participant who gets the 3rd best score. The rule of determining the order of the best score is as follows:\n",
        "- Higher score is better\n",
        "- In case of multiple participants having the same test score, they can occupy the same ranking value. For example, if 2 participants scored 100, then both of them occupy the first place. \n",
        "\n",
        "The first input of the function is the name list, and the second input to the function is the score list.\n",
        "\n",
        "##### Example 1:\n",
        "\n",
        "Input:\n",
        "\n",
        "names = [Andi, Budi, Charlie, Dilan, Echa]\n",
        "\n",
        "score = [80, 90, 95, 100, 85]\n",
        "\n",
        "This means, Andi gets 80, Budi gets 90, Charlie gets 95, Dilan gets 100, and Echa gets 85. The first best score is 100, and Dilan gets it. The second best score is 95, and Charlie gets it. The third best score is 90, and Budi gets it. So, our output should be Budi.\n",
        "\n",
        "Output: 'The third winner: Budi'.\n",
        "\n",
        "When we run ```third_place(names, score)```, the output will be 'The third winner: Budi'.\n",
        "\n",
        "##### Example 2:\n",
        "\n",
        "Input:\n",
        "\n",
        "names = [Andi, Budi, Charlie, Dilan, Echa]\n",
        "\n",
        "score = [80, 80, 80, 100, 90]\n",
        "\n",
        "This means, Andi, Budi, and Charlie gets 80, Dilan gets 100, and Echa gets 90. The third best score is 80, and our output should list ALL of the participants who get 80. \n",
        "\n",
        "Output: 'The third winner: Andi, Budi, Charlie'.\n",
        "\n",
        "When we run ```third_place(names, score)```, the output will be 'The third winner: Andi, Budi, Charlie'.\n",
        "\n",
        "\n",
        "##### Example 3:\n",
        "\n",
        "Input:\n",
        "\n",
        "names = [Andi, Budi, Charlie, Dilan, Echa, Fanya]\n",
        "\n",
        "score = [80, 90, 90, 100, 100, 80]\n",
        "\n",
        "The first best score (first winner) is 100 - Dilan and Echa shared this position. The second best score (second winner) is 90 - Budi and Charlie shared this position. The third best score (third winner) is 80, and it is shared by Andi and Fanya. So, our output should be Andi and Fanya.\n",
        "\n",
        "Output: 'The third winner: Andi, Fanya'."
      ]
    },
    {
      "cell_type": "markdown",
      "source": [
        "## Jawaban Problem 1"
      ],
      "metadata": {
        "id": "AZY9C-rud2hZ"
      }
    },
    {
      "cell_type": "markdown",
      "source": [
        "### Cara 1"
      ],
      "metadata": {
        "id": "9RPszkSGd8qB"
      }
    },
    {
      "cell_type": "code",
      "source": [
        "names = ['Andi', 'Budi', 'Charlie', 'Dilan', 'Echa', 'Fanya']\n",
        "scores = [80, 90, 90, 100, 100, 80]\n",
        "\n",
        "sorted_list = sorted(zip(names, scores), key=lambda x: x[1])\n",
        "third_highest_score = sorted_list[-0][1]\n",
        "res = str([name for name, score in sorted_list if score == third_highest_score])[1:-1]\n",
        "print(\"The third winner:\", res)"
      ],
      "metadata": {
        "colab": {
          "base_uri": "https://localhost:8080/"
        },
        "id": "fxe1rNo4-QOM",
        "outputId": "f7a96951-b366-4898-996a-76c5b55efcb0"
      },
      "execution_count": null,
      "outputs": [
        {
          "output_type": "stream",
          "name": "stdout",
          "text": [
            "The third winner: 'Andi', 'Fanya'\n"
          ]
        }
      ]
    },
    {
      "cell_type": "markdown",
      "source": [
        "### Cara 2"
      ],
      "metadata": {
        "id": "eh1i_VpeeA29"
      }
    },
    {
      "cell_type": "code",
      "source": [
        "#Create a DataFrame\n",
        "import pandas as pd\n",
        "d = {\n",
        "'Name':['Andi', 'Budi', 'Charlie', 'Dilan', 'Echa', 'Fanya'],\n",
        "'Score':[80, 90, 90, 100, 100, 80]}\n",
        " \n",
        "df = pd.DataFrame(d,columns=['Name','Score'])\n",
        "df = df.sort_values('Score')\n",
        "df['score_ranked']=df['Score'].rank(ascending=0,method='dense')\n",
        "df"
      ],
      "metadata": {
        "colab": {
          "base_uri": "https://localhost:8080/",
          "height": 238
        },
        "id": "FumDmrC7c5Fx",
        "outputId": "6cdfee39-2a24-4940-e718-7844eb6abdcf"
      },
      "execution_count": null,
      "outputs": [
        {
          "output_type": "execute_result",
          "data": {
            "text/plain": [
              "      Name  Score  score_ranked\n",
              "0     Andi     80           3.0\n",
              "5    Fanya     80           3.0\n",
              "1     Budi     90           2.0\n",
              "2  Charlie     90           2.0\n",
              "3    Dilan    100           1.0\n",
              "4     Echa    100           1.0"
            ],
            "text/html": [
              "\n",
              "  <div id=\"df-5c8bd872-d7a9-4c6c-8b61-ac724698bea3\">\n",
              "    <div class=\"colab-df-container\">\n",
              "      <div>\n",
              "<style scoped>\n",
              "    .dataframe tbody tr th:only-of-type {\n",
              "        vertical-align: middle;\n",
              "    }\n",
              "\n",
              "    .dataframe tbody tr th {\n",
              "        vertical-align: top;\n",
              "    }\n",
              "\n",
              "    .dataframe thead th {\n",
              "        text-align: right;\n",
              "    }\n",
              "</style>\n",
              "<table border=\"1\" class=\"dataframe\">\n",
              "  <thead>\n",
              "    <tr style=\"text-align: right;\">\n",
              "      <th></th>\n",
              "      <th>Name</th>\n",
              "      <th>Score</th>\n",
              "      <th>score_ranked</th>\n",
              "    </tr>\n",
              "  </thead>\n",
              "  <tbody>\n",
              "    <tr>\n",
              "      <th>0</th>\n",
              "      <td>Andi</td>\n",
              "      <td>80</td>\n",
              "      <td>3.0</td>\n",
              "    </tr>\n",
              "    <tr>\n",
              "      <th>5</th>\n",
              "      <td>Fanya</td>\n",
              "      <td>80</td>\n",
              "      <td>3.0</td>\n",
              "    </tr>\n",
              "    <tr>\n",
              "      <th>1</th>\n",
              "      <td>Budi</td>\n",
              "      <td>90</td>\n",
              "      <td>2.0</td>\n",
              "    </tr>\n",
              "    <tr>\n",
              "      <th>2</th>\n",
              "      <td>Charlie</td>\n",
              "      <td>90</td>\n",
              "      <td>2.0</td>\n",
              "    </tr>\n",
              "    <tr>\n",
              "      <th>3</th>\n",
              "      <td>Dilan</td>\n",
              "      <td>100</td>\n",
              "      <td>1.0</td>\n",
              "    </tr>\n",
              "    <tr>\n",
              "      <th>4</th>\n",
              "      <td>Echa</td>\n",
              "      <td>100</td>\n",
              "      <td>1.0</td>\n",
              "    </tr>\n",
              "  </tbody>\n",
              "</table>\n",
              "</div>\n",
              "      <button class=\"colab-df-convert\" onclick=\"convertToInteractive('df-5c8bd872-d7a9-4c6c-8b61-ac724698bea3')\"\n",
              "              title=\"Convert this dataframe to an interactive table.\"\n",
              "              style=\"display:none;\">\n",
              "        \n",
              "  <svg xmlns=\"http://www.w3.org/2000/svg\" height=\"24px\"viewBox=\"0 0 24 24\"\n",
              "       width=\"24px\">\n",
              "    <path d=\"M0 0h24v24H0V0z\" fill=\"none\"/>\n",
              "    <path d=\"M18.56 5.44l.94 2.06.94-2.06 2.06-.94-2.06-.94-.94-2.06-.94 2.06-2.06.94zm-11 1L8.5 8.5l.94-2.06 2.06-.94-2.06-.94L8.5 2.5l-.94 2.06-2.06.94zm10 10l.94 2.06.94-2.06 2.06-.94-2.06-.94-.94-2.06-.94 2.06-2.06.94z\"/><path d=\"M17.41 7.96l-1.37-1.37c-.4-.4-.92-.59-1.43-.59-.52 0-1.04.2-1.43.59L10.3 9.45l-7.72 7.72c-.78.78-.78 2.05 0 2.83L4 21.41c.39.39.9.59 1.41.59.51 0 1.02-.2 1.41-.59l7.78-7.78 2.81-2.81c.8-.78.8-2.07 0-2.86zM5.41 20L4 18.59l7.72-7.72 1.47 1.35L5.41 20z\"/>\n",
              "  </svg>\n",
              "      </button>\n",
              "      \n",
              "  <style>\n",
              "    .colab-df-container {\n",
              "      display:flex;\n",
              "      flex-wrap:wrap;\n",
              "      gap: 12px;\n",
              "    }\n",
              "\n",
              "    .colab-df-convert {\n",
              "      background-color: #E8F0FE;\n",
              "      border: none;\n",
              "      border-radius: 50%;\n",
              "      cursor: pointer;\n",
              "      display: none;\n",
              "      fill: #1967D2;\n",
              "      height: 32px;\n",
              "      padding: 0 0 0 0;\n",
              "      width: 32px;\n",
              "    }\n",
              "\n",
              "    .colab-df-convert:hover {\n",
              "      background-color: #E2EBFA;\n",
              "      box-shadow: 0px 1px 2px rgba(60, 64, 67, 0.3), 0px 1px 3px 1px rgba(60, 64, 67, 0.15);\n",
              "      fill: #174EA6;\n",
              "    }\n",
              "\n",
              "    [theme=dark] .colab-df-convert {\n",
              "      background-color: #3B4455;\n",
              "      fill: #D2E3FC;\n",
              "    }\n",
              "\n",
              "    [theme=dark] .colab-df-convert:hover {\n",
              "      background-color: #434B5C;\n",
              "      box-shadow: 0px 1px 3px 1px rgba(0, 0, 0, 0.15);\n",
              "      filter: drop-shadow(0px 1px 2px rgba(0, 0, 0, 0.3));\n",
              "      fill: #FFFFFF;\n",
              "    }\n",
              "  </style>\n",
              "\n",
              "      <script>\n",
              "        const buttonEl =\n",
              "          document.querySelector('#df-5c8bd872-d7a9-4c6c-8b61-ac724698bea3 button.colab-df-convert');\n",
              "        buttonEl.style.display =\n",
              "          google.colab.kernel.accessAllowed ? 'block' : 'none';\n",
              "\n",
              "        async function convertToInteractive(key) {\n",
              "          const element = document.querySelector('#df-5c8bd872-d7a9-4c6c-8b61-ac724698bea3');\n",
              "          const dataTable =\n",
              "            await google.colab.kernel.invokeFunction('convertToInteractive',\n",
              "                                                     [key], {});\n",
              "          if (!dataTable) return;\n",
              "\n",
              "          const docLinkHtml = 'Like what you see? Visit the ' +\n",
              "            '<a target=\"_blank\" href=https://colab.research.google.com/notebooks/data_table.ipynb>data table notebook</a>'\n",
              "            + ' to learn more about interactive tables.';\n",
              "          element.innerHTML = '';\n",
              "          dataTable['output_type'] = 'display_data';\n",
              "          await google.colab.output.renderOutput(dataTable, element);\n",
              "          const docLink = document.createElement('div');\n",
              "          docLink.innerHTML = docLinkHtml;\n",
              "          element.appendChild(docLink);\n",
              "        }\n",
              "      </script>\n",
              "    </div>\n",
              "  </div>\n",
              "  "
            ]
          },
          "metadata": {},
          "execution_count": 23
        }
      ]
    },
    {
      "cell_type": "code",
      "source": [
        "df[df['score_ranked']==3.0]"
      ],
      "metadata": {
        "colab": {
          "base_uri": "https://localhost:8080/",
          "height": 112
        },
        "id": "GpMll4_hex4J",
        "outputId": "dfb17fbb-3da6-4b77-9345-5523fcb2aa99"
      },
      "execution_count": null,
      "outputs": [
        {
          "output_type": "execute_result",
          "data": {
            "text/plain": [
              "    Name  Score  score_ranked\n",
              "0   Andi     80           3.0\n",
              "5  Fanya     80           3.0"
            ],
            "text/html": [
              "\n",
              "  <div id=\"df-b5cb4d0e-c694-41f5-a2a3-0b93d3db28d7\">\n",
              "    <div class=\"colab-df-container\">\n",
              "      <div>\n",
              "<style scoped>\n",
              "    .dataframe tbody tr th:only-of-type {\n",
              "        vertical-align: middle;\n",
              "    }\n",
              "\n",
              "    .dataframe tbody tr th {\n",
              "        vertical-align: top;\n",
              "    }\n",
              "\n",
              "    .dataframe thead th {\n",
              "        text-align: right;\n",
              "    }\n",
              "</style>\n",
              "<table border=\"1\" class=\"dataframe\">\n",
              "  <thead>\n",
              "    <tr style=\"text-align: right;\">\n",
              "      <th></th>\n",
              "      <th>Name</th>\n",
              "      <th>Score</th>\n",
              "      <th>score_ranked</th>\n",
              "    </tr>\n",
              "  </thead>\n",
              "  <tbody>\n",
              "    <tr>\n",
              "      <th>0</th>\n",
              "      <td>Andi</td>\n",
              "      <td>80</td>\n",
              "      <td>3.0</td>\n",
              "    </tr>\n",
              "    <tr>\n",
              "      <th>5</th>\n",
              "      <td>Fanya</td>\n",
              "      <td>80</td>\n",
              "      <td>3.0</td>\n",
              "    </tr>\n",
              "  </tbody>\n",
              "</table>\n",
              "</div>\n",
              "      <button class=\"colab-df-convert\" onclick=\"convertToInteractive('df-b5cb4d0e-c694-41f5-a2a3-0b93d3db28d7')\"\n",
              "              title=\"Convert this dataframe to an interactive table.\"\n",
              "              style=\"display:none;\">\n",
              "        \n",
              "  <svg xmlns=\"http://www.w3.org/2000/svg\" height=\"24px\"viewBox=\"0 0 24 24\"\n",
              "       width=\"24px\">\n",
              "    <path d=\"M0 0h24v24H0V0z\" fill=\"none\"/>\n",
              "    <path d=\"M18.56 5.44l.94 2.06.94-2.06 2.06-.94-2.06-.94-.94-2.06-.94 2.06-2.06.94zm-11 1L8.5 8.5l.94-2.06 2.06-.94-2.06-.94L8.5 2.5l-.94 2.06-2.06.94zm10 10l.94 2.06.94-2.06 2.06-.94-2.06-.94-.94-2.06-.94 2.06-2.06.94z\"/><path d=\"M17.41 7.96l-1.37-1.37c-.4-.4-.92-.59-1.43-.59-.52 0-1.04.2-1.43.59L10.3 9.45l-7.72 7.72c-.78.78-.78 2.05 0 2.83L4 21.41c.39.39.9.59 1.41.59.51 0 1.02-.2 1.41-.59l7.78-7.78 2.81-2.81c.8-.78.8-2.07 0-2.86zM5.41 20L4 18.59l7.72-7.72 1.47 1.35L5.41 20z\"/>\n",
              "  </svg>\n",
              "      </button>\n",
              "      \n",
              "  <style>\n",
              "    .colab-df-container {\n",
              "      display:flex;\n",
              "      flex-wrap:wrap;\n",
              "      gap: 12px;\n",
              "    }\n",
              "\n",
              "    .colab-df-convert {\n",
              "      background-color: #E8F0FE;\n",
              "      border: none;\n",
              "      border-radius: 50%;\n",
              "      cursor: pointer;\n",
              "      display: none;\n",
              "      fill: #1967D2;\n",
              "      height: 32px;\n",
              "      padding: 0 0 0 0;\n",
              "      width: 32px;\n",
              "    }\n",
              "\n",
              "    .colab-df-convert:hover {\n",
              "      background-color: #E2EBFA;\n",
              "      box-shadow: 0px 1px 2px rgba(60, 64, 67, 0.3), 0px 1px 3px 1px rgba(60, 64, 67, 0.15);\n",
              "      fill: #174EA6;\n",
              "    }\n",
              "\n",
              "    [theme=dark] .colab-df-convert {\n",
              "      background-color: #3B4455;\n",
              "      fill: #D2E3FC;\n",
              "    }\n",
              "\n",
              "    [theme=dark] .colab-df-convert:hover {\n",
              "      background-color: #434B5C;\n",
              "      box-shadow: 0px 1px 3px 1px rgba(0, 0, 0, 0.15);\n",
              "      filter: drop-shadow(0px 1px 2px rgba(0, 0, 0, 0.3));\n",
              "      fill: #FFFFFF;\n",
              "    }\n",
              "  </style>\n",
              "\n",
              "      <script>\n",
              "        const buttonEl =\n",
              "          document.querySelector('#df-b5cb4d0e-c694-41f5-a2a3-0b93d3db28d7 button.colab-df-convert');\n",
              "        buttonEl.style.display =\n",
              "          google.colab.kernel.accessAllowed ? 'block' : 'none';\n",
              "\n",
              "        async function convertToInteractive(key) {\n",
              "          const element = document.querySelector('#df-b5cb4d0e-c694-41f5-a2a3-0b93d3db28d7');\n",
              "          const dataTable =\n",
              "            await google.colab.kernel.invokeFunction('convertToInteractive',\n",
              "                                                     [key], {});\n",
              "          if (!dataTable) return;\n",
              "\n",
              "          const docLinkHtml = 'Like what you see? Visit the ' +\n",
              "            '<a target=\"_blank\" href=https://colab.research.google.com/notebooks/data_table.ipynb>data table notebook</a>'\n",
              "            + ' to learn more about interactive tables.';\n",
              "          element.innerHTML = '';\n",
              "          dataTable['output_type'] = 'display_data';\n",
              "          await google.colab.output.renderOutput(dataTable, element);\n",
              "          const docLink = document.createElement('div');\n",
              "          docLink.innerHTML = docLinkHtml;\n",
              "          element.appendChild(docLink);\n",
              "        }\n",
              "      </script>\n",
              "    </div>\n",
              "  </div>\n",
              "  "
            ]
          },
          "metadata": {},
          "execution_count": 5
        }
      ]
    },
    {
      "cell_type": "code",
      "source": [
        ""
      ],
      "metadata": {
        "id": "ohnYw2L7brS0"
      },
      "execution_count": null,
      "outputs": []
    },
    {
      "cell_type": "markdown",
      "metadata": {
        "id": "1ydxvEez64q3"
      },
      "source": [
        "Problem 2: Find the Square Root!"
      ]
    },
    {
      "cell_type": "markdown",
      "metadata": {
        "id": "nvcBPlgV64q5"
      },
      "source": [
        "Create a function whose name is ```square_root``` that does the following:\n",
        "\n",
        "Given a second order polynomial, find the roots (roots should be in real number). The input will be 3 numbers, each of them representing 'a', 'b', and 'c', in ax^2 + bx + c = 0.\n",
        "\n",
        "Your task is to find the root of ax^2 + bx + c = 0. \n",
        "\n",
        "However, notice that sometimes an equation cannot be solved, or they have only one solution instead of two. Your function should also take this into consideration. \n",
        "\n",
        "The input of your function is 3 numbers, first number is the 'a' constant, second number is the 'b' constant, and third number is the 'c' constant.\n",
        "\n",
        "##### Example 1:\n",
        "\n",
        "Input: a = 1, b = -5, c = 6.\n",
        "\n",
        "This means, the equation is 1x^2 - 5x + 6 = 0. \n",
        "This equation has two solutions, the first solution is x = 3, and the second solution is x = 2. So, your output should be:\n",
        "\n",
        "Output: 'X1 = 3, X2 = 2'.\n",
        "\n",
        "When we run the code ```square_root(1, -5, 6)``` the output will be: 'X1 = 3, X2 = 2'\n",
        "\n",
        "##### Example 2:\n",
        "\n",
        "Input: a = 2, b = 4, c = 2.\n",
        "\n",
        "This means, the equation is 2x^2 + 4x + 2 = 0. \n",
        "This equation has only one solution, which is x = -1. \n",
        "\n",
        "Output; 'X = -1'.\n",
        "\n",
        "##### Example 3:\n",
        "\n",
        "Input: a = 1, b = 1, c = 9.\n",
        "\n",
        "This means, the equation is x^2 + x + 9 = 0.\n",
        "This equation has no real solution. (If you have learned about imaginary or complex numbers, the solution of this equation is those kind of numbers. But here, we're just going to deal with real numbers).\n",
        "\n",
        "Output: 'No solution'."
      ]
    },
    {
      "cell_type": "markdown",
      "source": [
        "## Jawaban Problem 2"
      ],
      "metadata": {
        "id": "37g7XvjHeLVv"
      }
    },
    {
      "cell_type": "markdown",
      "source": [
        "### Cara 1"
      ],
      "metadata": {
        "id": "KOudZ9VDeN3q"
      }
    },
    {
      "cell_type": "code",
      "metadata": {
        "id": "i3_ebfGq64q6",
        "colab": {
          "base_uri": "https://localhost:8080/"
        },
        "outputId": "227d8b28-2664-4b89-931c-80de68cff917"
      },
      "source": [
        "print(\"Quadratic Roots Finder\")\n",
        "print(\"-----------------------------\")\n",
        "print(\"Equation: ax^2 + bx + c = 0\")\n",
        "print(\"-----------------------------\")\n",
        "\n",
        "def square_root(a, b, c):\n",
        "  import math\n",
        "  det = b * b - 4 * a * c\n",
        "  if (det<0) :\n",
        "    print(\"Tidak ada solusi, The equation does not have real roots.\")\n",
        "    return\n",
        "  else :\n",
        "    x1 = (-b + math.sqrt(det))/(2 * a)\n",
        "    x2 = (-b - math.sqrt(det))/(2 * a)\n",
        "    print(\"x1 =\", x1)\n",
        "    print(\"x2 =\", x2)\n",
        "    return\n",
        "square_root(1, -5, 6)\n"
      ],
      "execution_count": null,
      "outputs": [
        {
          "output_type": "stream",
          "name": "stdout",
          "text": [
            "Quadratic Roots Finder\n",
            "-----------------------------\n",
            "Equation: ax^2 + bx + c = 0\n",
            "-----------------------------\n",
            "x1 = 3.0\n",
            "x2 = 2.0\n"
          ]
        }
      ]
    },
    {
      "cell_type": "markdown",
      "source": [
        "### Cara 2"
      ],
      "metadata": {
        "id": "vR6gV6JVeRjV"
      }
    },
    {
      "cell_type": "code",
      "source": [
        "print(\"Quadratic Roots Finder\")\n",
        "print(\"-----------------------------\")\n",
        "import math\n",
        " \n",
        "print(\"Equation: ax^2 + bx + c = 0\")\n",
        "a = float(input(\"a = \"))\n",
        "b = float(input(\"b = \"))\n",
        "c = float(input(\"c = \"))\n",
        "print(\"-----------------------------\")\n",
        "det = b * b - 4 * a * c\n",
        "if (det<0) :\n",
        "  print(\"Tidak ada Solusi,The equation does not have real roots.\")\n",
        "else :\n",
        "  x1 = (-b + math.sqrt(det))/(2 * a)\n",
        "  x2 = (-b - math.sqrt(det))/(2 * a)\n",
        "  print(\"x1 =\", x1)\n",
        "  print(\"x2 =\", x2)"
      ],
      "metadata": {
        "colab": {
          "base_uri": "https://localhost:8080/"
        },
        "id": "A03D1vtBKqDz",
        "outputId": "b1717754-c746-4c4e-81cf-76c1cfeedf3c"
      },
      "execution_count": null,
      "outputs": [
        {
          "output_type": "stream",
          "name": "stdout",
          "text": [
            "Quadratic Roots Finder\n",
            "-----------------------------\n",
            "Equation: ax^2 + bx + c = 0\n",
            "a = 1\n",
            "b = 1\n",
            "c = 9\n",
            "-----------------------------\n",
            "Tidak ada Solusi,The equation does not have real roots.\n"
          ]
        }
      ]
    },
    {
      "cell_type": "markdown",
      "metadata": {
        "id": "NntHmMB164q-"
      },
      "source": [
        "Problem 3: Find Distance Between Two Coordinates - Easy"
      ]
    },
    {
      "cell_type": "markdown",
      "metadata": {
        "id": "12EaDJlE64q_"
      },
      "source": [
        "Create a function called ```distance``` that does the following:\n",
        "\n",
        "Given two coordinates in a list. Your task is to calculate the distance between these two coordinates. The input of your function will be two list. Each list contains 2 members, representing the x and y position.\n",
        "\n",
        "##### Example 1:\n",
        "\n",
        "Input: \n",
        "\n",
        "point_1 = [5, 5]\n",
        "\n",
        "point_2 = [1, 2]\n",
        "\n",
        "This means, the first point's coordinate is (5,5), the second point's coordinate is (1,2). To calculate the distance between these two points, we use the usual euclidean distance formula here: https://wikimedia.org/api/rest_v1/media/math/render/svg/2e0c9ce1b3455cb9e92c6bad6684dbda02f69c82. \n",
        "\n",
        "The distance is: \n",
        "\n",
        "Square root of ((5-1)^2 + (5-2)^2) = Square root of (16 + 9) = Square root of (25) = 5.\n",
        "\n",
        "Output: 'The distance is 5.'\n",
        "\n",
        "So, when we run the code ```distance(point_1, point_2)``` the output will be 'The distance is 5'.\n",
        "\n",
        "##### Example 2:\n",
        "\n",
        "Input:\n",
        "\n",
        "point_1 = [0,-1]\n",
        "\n",
        "point_2 = [-3, 2]\n",
        "\n",
        "The first coordinate is (0,-1), the second coordinate is (-3,2). The distance between them is:\n",
        "\n",
        "Square root of ((0- -3)^2 + (-1-2)^2) = Square root of (9 + 9) = Square root of (18) = 4.242640687\n",
        "\n",
        "Output: 'The distance is 4.242640687'.\n",
        "\n",
        "So, when we run the code ```distance(point_1, point_2)``` the output will be 'The distance is 4.242640487'.\n",
        "\n",
        "##### FAQ:\n",
        "\n",
        "- Question: \"Desimalnya dibuletin ga?\"\n",
        "- Answer: \"Ga usah peduliin format output desimalnya. Mau keluar berapa angka di belakang koma gpp kok. Yang penting value nya bener.\" "
      ]
    },
    {
      "cell_type": "markdown",
      "source": [
        "## Jawaban Problem 3"
      ],
      "metadata": {
        "id": "HcP2LYz2dW_R"
      }
    },
    {
      "cell_type": "code",
      "metadata": {
        "id": "4rmwX2y564rA",
        "colab": {
          "base_uri": "https://localhost:8080/"
        },
        "outputId": "b41c30b4-d4d6-4d0e-ba50-88fedd2184f3"
      },
      "source": [
        "def distance(x1, x2, y1, y2):\n",
        "  import math\n",
        "  a = ( (x2-x1)**2 + (y2-y1)**2 )\n",
        "  a = math.sqrt(a)\n",
        "  math.sqrt(a)\n",
        "  print(a)\n",
        "distance(0, -3, -1, 2)"
      ],
      "execution_count": null,
      "outputs": [
        {
          "output_type": "stream",
          "name": "stdout",
          "text": [
            "4.242640687119285\n"
          ]
        }
      ]
    }
  ]
}