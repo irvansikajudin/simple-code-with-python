{
  "cells": [
    {
      "cell_type": "markdown",
      "metadata": {
        "id": "view-in-github",
        "colab_type": "text"
      },
      "source": [
        "<a href=\"https://colab.research.google.com/github/irvansikajudin/simple-code-with-python/blob/main/Simple_Palindrome_Check_and_Simple_Blacklist_Check_With_Python.ipynb\" target=\"_parent\"><img src=\"https://colab.research.google.com/assets/colab-badge.svg\" alt=\"Open In Colab\"/></a>"
      ]
    },
    {
      "cell_type": "markdown",
      "id": "9c5411c8",
      "metadata": {
        "id": "9c5411c8"
      },
      "source": [
        "# TASK 1"
      ]
    },
    {
      "cell_type": "markdown",
      "source": [
        "Input: ‘malam’\n",
        "Output: ‘malam’ is a Palindrome\n",
        "\n",
        "Input: ‘ABBA’\n",
        "Output: ‘ABBA’ is a Palindrome\n",
        "\n",
        "Input: ‘Python’\n",
        "Output: ‘Python’ is not a Palindrome."
      ],
      "metadata": {
        "id": "z6lvG8GQJnHi"
      },
      "id": "z6lvG8GQJnHi"
    },
    {
      "cell_type": "markdown",
      "id": "891f21be",
      "metadata": {
        "id": "891f21be"
      },
      "source": [
        "## Ini menggunakan input()"
      ]
    },
    {
      "cell_type": "code",
      "execution_count": null,
      "id": "94a3ed11",
      "metadata": {
        "scrolled": false,
        "colab": {
          "base_uri": "https://localhost:8080/"
        },
        "id": "94a3ed11",
        "outputId": "f94fc894-cc6c-45ac-cddb-25f043066363"
      },
      "outputs": [
        {
          "output_type": "stream",
          "name": "stdout",
          "text": [
            "masukkan kata yang akan di cek : assa\n",
            "'assa' is a palindrome\n"
          ]
        }
      ],
      "source": [
        "cekker = input('masukkan kata yang akan di cek : ')\n",
        "if cekker == cekker[::-1]:\n",
        "    hasilCek =\"'\" + cekker + \"'\" + \" is a palindrome\"\n",
        "else:\n",
        "    hasilCek = \"'\" + cekker + \"'\"  + \" is not palindrome\"\n",
        "\n",
        "print(hasilCek)\n",
        "\n",
        "\n",
        "# 3l = [12,34,56,67,78] \n",
        "# l[0:2] #[12,34] # step count by default is 1 \n",
        "# l[0:4:2] #[12,56] # step count is 2 \n",
        "# l[-5:-2] #[12,34,56] #step count is 1 \n",
        "# l[-5::3] #[13,67] # step count is 3 \n",
        "# l[::-1] #Reverse of list l \n",
        "# l[-1::-1] #Reverse of list l \n",
        "# l[-1:-4:-1]#[78,67,56] # step count is -1 \n",
        "# l[-2::-2] #[67,34] \n",
        "\n",
        "\n"
      ]
    },
    {
      "cell_type": "code",
      "source": [
        "print(cekker[::-1])"
      ],
      "metadata": {
        "colab": {
          "base_uri": "https://localhost:8080/"
        },
        "id": "gil14BWKSFzk",
        "outputId": "bba8120a-4b58-492b-9a48-fa2c7bed1368"
      },
      "id": "gil14BWKSFzk",
      "execution_count": null,
      "outputs": [
        {
          "output_type": "stream",
          "name": "stdout",
          "text": [
            "assa\n"
          ]
        }
      ]
    },
    {
      "cell_type": "markdown",
      "id": "6bb8c22a",
      "metadata": {
        "id": "6bb8c22a"
      },
      "source": [
        "## ini cara biasa deh keknya"
      ]
    },
    {
      "cell_type": "code",
      "execution_count": null,
      "id": "4e55ed4a",
      "metadata": {
        "id": "4e55ed4a"
      },
      "outputs": [],
      "source": [
        "cekker1 = \"Python\""
      ]
    },
    {
      "cell_type": "code",
      "execution_count": null,
      "id": "b304c2ec",
      "metadata": {
        "id": "b304c2ec",
        "outputId": "9d070df4-ed02-422a-a641-546a2389f629"
      },
      "outputs": [
        {
          "name": "stdout",
          "output_type": "stream",
          "text": [
            "'Python' is not palindrome\n"
          ]
        }
      ],
      "source": [
        "if cekker1 == cekker1[::-1]:\n",
        "    hasilCek1 =\"'\" + cekker1 + \"'\" + \" is a palindrome\"\n",
        "else:\n",
        "    hasilCek1 = \"'\" + cekker1 + \"'\"  + \" is not palindrome\"\n",
        "\n",
        "print(hasilCek1)"
      ]
    },
    {
      "cell_type": "markdown",
      "id": "a03f92b9",
      "metadata": {
        "id": "a03f92b9"
      },
      "source": [
        "# TASK 2"
      ]
    },
    {
      "cell_type": "markdown",
      "source": [
        "Challenges:\n",
        "Mini Challenges: Difficulty - Medium\n",
        "\n",
        "black_list_word = [‘andi’, ‘susi’, ‘bola’]\n",
        "\n",
        "kalimat: andi sedang makan nasi padang, output : ada black list word\n",
        "\n",
        "\n",
        "1. kalimat: sandi sedang makan bermain tenis, output : tidak ada black list word\n",
        "2. kalimat: andi dan sandi sedang makan, output : ada black list word\n",
        "3. kalimat: budi dan susi sedang makan, output : ada black list word\n",
        "4. kalimat: erna  sedang berenang, output : tidak ada black list word\n",
        "5. kalimat: raffa sedang makan bermain bola , output : ada black list word\n",
        "\n",
        "Tulislah code dalam python, dimana ketika diberikan inputan kalimat sesuai dengan kasus diatas maka outputnya adalah: \n",
        "\n",
        "\n",
        "*   ada black list word\n",
        "*   tidak ada black list word\n",
        "\n",
        "tergantung apakah ada word yang di black list dalam satu kalimat\n"
      ],
      "metadata": {
        "id": "WZseNPU5KrrF"
      },
      "id": "WZseNPU5KrrF"
    },
    {
      "cell_type": "markdown",
      "id": "c806845a",
      "metadata": {
        "id": "c806845a"
      },
      "source": [
        "## ini cara bodoh hehe"
      ]
    },
    {
      "cell_type": "code",
      "execution_count": null,
      "id": "6644df6d",
      "metadata": {
        "scrolled": true,
        "colab": {
          "base_uri": "https://localhost:8080/"
        },
        "id": "6644df6d",
        "outputId": "cee433cc-685c-431c-b64a-095bd530bd71"
      },
      "outputs": [
        {
          "output_type": "stream",
          "name": "stdout",
          "text": [
            "masukkan teks : kita akan bermain bola\n",
            "Ada black list word\n"
          ]
        }
      ],
      "source": [
        "kalimat2 = input(\"masukkan teks : \").split()\n",
        "black_list_word = ['andi', 'susi', 'bola']\n",
        "for i in kalimat2:\n",
        "    if black_list_word[0] in kalimat2:\n",
        "        hasilcek3 = \"Ada black list word\"\n",
        "    elif  black_list_word[1] in kalimat2:\n",
        "        hasilcek3 = \"Ada black list word\"\n",
        "    elif  black_list_word[2] in kalimat2:\n",
        "        hasilcek3 = \"Ada black list word\"\n",
        "    else:\n",
        "        hasilcek3 = \"Tidak Ada black list word\"\n",
        "print(hasilcek3)"
      ]
    },
    {
      "cell_type": "markdown",
      "id": "f01312e1",
      "metadata": {
        "id": "f01312e1"
      },
      "source": [
        "## ini cara cerdas hehe"
      ]
    },
    {
      "cell_type": "code",
      "execution_count": null,
      "id": "83d212b8",
      "metadata": {
        "scrolled": true,
        "id": "83d212b8",
        "outputId": "d089296d-5300-4468-bc44-d86847d97b23"
      },
      "outputs": [
        {
          "name": "stdout",
          "output_type": "stream",
          "text": [
            "['andi', 'susi', 'bola']\n"
          ]
        }
      ],
      "source": [
        "black_list_word = ['andi', 'susi', 'bola']\n",
        "word = black_list_word\n",
        "\n",
        "print(black_list_word)"
      ]
    },
    {
      "cell_type": "code",
      "execution_count": null,
      "id": "0c1f0405",
      "metadata": {
        "id": "0c1f0405"
      },
      "outputs": [],
      "source": [
        "def common_data(list1, list2):\n",
        "    result = False\n",
        "    # traverse in the 1st list\n",
        "    for x in list1:\n",
        "  \n",
        "        # traverse in the 2nd list\n",
        "        for y in list2:\n",
        "    \n",
        "            # if one common\n",
        "            if x == y:\n",
        "                return 'Ada black list word' \n",
        "            else:\n",
        "                return 'Tidak ada black list word' \n",
        "                  \n",
        "    return result       "
      ]
    },
    {
      "cell_type": "code",
      "execution_count": null,
      "id": "188a6bfc",
      "metadata": {
        "id": "188a6bfc",
        "outputId": "1a12fdcd-7b2c-4385-f332-cc9fb67d088c"
      },
      "outputs": [
        {
          "name": "stdout",
          "output_type": "stream",
          "text": [
            "Ada black list word\n"
          ]
        }
      ],
      "source": [
        "kalimat = 'andi sedang makan nasi padang'\n",
        "\n",
        "kalimat = kalimat.split(' ')\n",
        "\n",
        "print(common_data(black_list_word, kalimat))"
      ]
    },
    {
      "cell_type": "code",
      "execution_count": null,
      "id": "06101c4b",
      "metadata": {
        "id": "06101c4b",
        "outputId": "1960ef7a-dfe4-463c-a4fe-c5b043227b2a"
      },
      "outputs": [
        {
          "name": "stdout",
          "output_type": "stream",
          "text": [
            "Tidak ada black list word\n"
          ]
        }
      ],
      "source": [
        "kalimat = 'sandi sedang makan bermain tenis'\n",
        "\n",
        "kalimat = kalimat.split(' ')\n",
        "\n",
        "print(common_data(black_list_word, kalimat))"
      ]
    },
    {
      "cell_type": "code",
      "execution_count": null,
      "id": "9cb0dd80",
      "metadata": {
        "id": "9cb0dd80",
        "outputId": "fe76589a-0bf2-4f97-deb3-8bc36cab1feb"
      },
      "outputs": [
        {
          "name": "stdout",
          "output_type": "stream",
          "text": [
            "Ada black list word\n"
          ]
        }
      ],
      "source": [
        "kalimat = 'andi dan sandi sedang makan'\n",
        "\n",
        "kalimat = kalimat.split(' ')\n",
        "\n",
        "print(common_data(black_list_word, kalimat))"
      ]
    },
    {
      "cell_type": "code",
      "execution_count": null,
      "id": "fc5e26ef",
      "metadata": {
        "id": "fc5e26ef"
      },
      "outputs": [],
      "source": [
        ""
      ]
    }
  ],
  "metadata": {
    "kernelspec": {
      "display_name": "Python 3 (ipykernel)",
      "language": "python",
      "name": "python3"
    },
    "language_info": {
      "codemirror_mode": {
        "name": "ipython",
        "version": 3
      },
      "file_extension": ".py",
      "mimetype": "text/x-python",
      "name": "python",
      "nbconvert_exporter": "python",
      "pygments_lexer": "ipython3",
      "version": "3.9.7"
    },
    "colab": {
      "name": " Simple Palindrome Check and Simple Blacklist Check With Python",
      "provenance": [],
      "collapsed_sections": [],
      "toc_visible": true,
      "include_colab_link": true
    }
  },
  "nbformat": 4,
  "nbformat_minor": 5
}