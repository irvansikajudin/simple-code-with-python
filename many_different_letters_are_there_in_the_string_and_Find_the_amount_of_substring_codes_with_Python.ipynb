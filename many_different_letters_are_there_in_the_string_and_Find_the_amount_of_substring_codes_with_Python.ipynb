{
  "cells": [
    {
      "cell_type": "markdown",
      "metadata": {
        "id": "view-in-github",
        "colab_type": "text"
      },
      "source": [
        "<a href=\"https://colab.research.google.com/github/irvansikajudin/simple-code-with-python/blob/main/many_different_letters_are_there_in_the_string_and_Find_the_amount_of_substring_codes_with_Python.ipynb\" target=\"_parent\"><img src=\"https://colab.research.google.com/assets/colab-badge.svg\" alt=\"Open In Colab\"/></a>"
      ]
    },
    {
      "cell_type": "markdown",
      "metadata": {
        "id": "ZwHc-3vSJdpj"
      },
      "source": [
        "Problem 1: Find the amount of substring."
      ]
    },
    {
      "cell_type": "markdown",
      "metadata": {
        "id": "_rD65MuvJdpm"
      },
      "source": [
        "Create a function whose name is ```substring_count``` that does the following: \n",
        "\n",
        "Given a string and a substring. Count how many times the substring appears in the string. The first input is always the string (the longer one), and the second input is always the substring (the shorter one).\n",
        "\n",
        "##### Example 1:\n",
        "\n",
        "Input:\n",
        "\n",
        "string = 'ABCDCDC'\n",
        "\n",
        "substring = 'CD'\n",
        "\n",
        "How many times 'CD' appears in 'ABCDCDC'? \n",
        "2 times! So when we run ```substring_count('ABCDCDC', 'CD')``` the output will be '2'. \n",
        "\n",
        "Output: 2\n",
        "\n",
        "##### Example 2:\n",
        "\n",
        "String:\n",
        "\n",
        "string = 'ABCDCDC'\n",
        "\n",
        "substring = 'CDC'\n",
        "\n",
        "How many times 'CDC' appears in 'ABCDCDC'?\n",
        "2 times! Yes, it can overlap. AB**CDC**DC, and ABCD**CDC**. So when we run ```substring_count('ABCDCDC', 'CDC')``` the output will be '2'. \n",
        "\n",
        "Output: 2\n",
        "\n",
        "##### Example 3:\n",
        "\n",
        "string = 'DEDFDEDEDEG'\n",
        "\n",
        "substring = 'DED'\n",
        "\n",
        "How many times 'DED' appears in 'DEDFDEDEDEG'?\n",
        "3 times! First: **DED**FDEDEDEG. Second: DEDF**DED**EDEG. Third: DEDFDE**DED**EG.\n",
        "\n",
        "Output: 3"
      ]
    },
    {
      "cell_type": "code",
      "execution_count": null,
      "metadata": {
        "id": "-dQgvKqmJdpp"
      },
      "outputs": [],
      "source": [
        "### Write your solution here ###\n",
        "def substring_count(astr,pattern):\n",
        "    astr, pattern = astr.strip(), pattern.strip()\n",
        "    if pattern == '': return 0\n",
        "\n",
        "    ind, count, start_flag = 0,0,0\n",
        "    while True:\n",
        "        try:\n",
        "            if start_flag == 0:\n",
        "                ind = astr.index(pattern)\n",
        "                start_flag = 1\n",
        "            else:\n",
        "                ind += 1 + astr[ind+1:].index(pattern)\n",
        "            count += 1\n",
        "        except:\n",
        "            break\n",
        "    return count\n",
        "    "
      ]
    },
    {
      "cell_type": "code",
      "execution_count": null,
      "metadata": {
        "id": "Um0FiJYdJdps",
        "outputId": "f9d2d577-e7bf-49ba-b046-969ad920b469"
      },
      "outputs": [
        {
          "data": {
            "text/plain": [
              "2"
            ]
          },
          "execution_count": 5,
          "metadata": {},
          "output_type": "execute_result"
        }
      ],
      "source": [
        "substring_count('ABCDCDC', 'CD')\n",
        "#Expected output= 2"
      ]
    },
    {
      "cell_type": "code",
      "execution_count": null,
      "metadata": {
        "id": "W79NJmbv1uvX",
        "outputId": "ada97c9c-7e78-4fc4-8cb4-034896e705e8"
      },
      "outputs": [
        {
          "data": {
            "text/plain": [
              "2"
            ]
          },
          "execution_count": 3,
          "metadata": {},
          "output_type": "execute_result"
        }
      ],
      "source": [
        "substring_count('ABCDCDC', 'CDC')"
      ]
    },
    {
      "cell_type": "code",
      "execution_count": null,
      "metadata": {
        "id": "T4YeC9kmJdpv",
        "outputId": "707cfcaf-93cf-43aa-c822-1d1541465301"
      },
      "outputs": [
        {
          "data": {
            "text/plain": [
              "3"
            ]
          },
          "execution_count": 4,
          "metadata": {},
          "output_type": "execute_result"
        }
      ],
      "source": [
        "substring_count('DEDFDEDEDEG', 'DED')"
      ]
    },
    {
      "cell_type": "markdown",
      "metadata": {
        "id": "kPc42YPuJdpw"
      },
      "source": [
        "Problem 2: How many different letters are there in the string?"
      ]
    },
    {
      "cell_type": "markdown",
      "metadata": {
        "id": "YtkU_gLYJdpx"
      },
      "source": [
        "Create a function called ```diff_letters``` that counts how many different letters are there in the input string.\n",
        "\n",
        "The input is just a single string.\n",
        "\n",
        "##### Example 1:\n",
        "\n",
        "Input: 'AAAAAAAAAB'\n",
        "\n",
        "Since there are only 2 different letters in the input string, the output is 2.\n",
        "\n",
        "When we run ```diff_letters```, the output is '2'.\n",
        "\n",
        "Output: 2\n",
        "\n",
        "##### Example 2:\n",
        "\n",
        "Input: 'ABCDAAAABBCCCE'\n",
        "\n",
        "Since there are 5 different letters in that string (A, B, C, D, E), the output is 5.\n",
        "\n",
        "Output: 5"
      ]
    },
    {
      "cell_type": "code",
      "execution_count": null,
      "metadata": {
        "id": "uQkNjT2kJdpz"
      },
      "outputs": [],
      "source": [
        "### Write your code here ###\n",
        "def diff_letters():\n",
        "    string = input('Hitung perbedaan huruf dari : ')\n",
        "    unique = []\n",
        "    for char in string[::]:\n",
        "        if char not in unique:\n",
        "            unique.append(char)\n",
        "    print('Ada', len(unique), 'huruf yang beda dalam inputan anda!')\n"
      ]
    },
    {
      "cell_type": "code",
      "execution_count": null,
      "metadata": {
        "id": "X2K3osNDJdp1",
        "outputId": "0da268c6-98b5-4f80-e3b8-ceda5a93661a"
      },
      "outputs": [
        {
          "name": "stdout",
          "output_type": "stream",
          "text": [
            "Hitung perbedaan huruf dari : AAAAAAAAAB\n",
            "Ada 2 huruf yang beda dalam inputan anda!\n"
          ]
        }
      ],
      "source": [
        "diff_letters()"
      ]
    },
    {
      "cell_type": "code",
      "execution_count": null,
      "metadata": {
        "id": "7PkAapFHJdp2",
        "outputId": "f155af6a-c50a-4c8b-bb5d-e7fc0fe8659e"
      },
      "outputs": [
        {
          "name": "stdout",
          "output_type": "stream",
          "text": [
            "Hitung perbedaan huruf dari : ABCDAAAABBCCCE\n",
            "Ada 5 huruf yang beda dalam inputan anda!\n"
          ]
        }
      ],
      "source": [
        "diff_letters()"
      ]
    }
  ],
  "metadata": {
    "colab": {
      "name": "many different letters are there in the string and Find the amount of substring codes with Python",
      "provenance": [],
      "toc_visible": true,
      "include_colab_link": true
    },
    "kernelspec": {
      "display_name": "Python 3 (ipykernel)",
      "language": "python",
      "name": "python3"
    },
    "language_info": {
      "codemirror_mode": {
        "name": "ipython",
        "version": 3
      },
      "file_extension": ".py",
      "mimetype": "text/x-python",
      "name": "python",
      "nbconvert_exporter": "python",
      "pygments_lexer": "ipython3",
      "version": "3.9.7"
    },
    "toc": {
      "base_numbering": 1,
      "nav_menu": {},
      "number_sections": true,
      "sideBar": true,
      "skip_h1_title": false,
      "title_cell": "Table of Contents",
      "title_sidebar": "Contents",
      "toc_cell": false,
      "toc_position": {},
      "toc_section_display": true,
      "toc_window_display": false
    }
  },
  "nbformat": 4,
  "nbformat_minor": 0
}